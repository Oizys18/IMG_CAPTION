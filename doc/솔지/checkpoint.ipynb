{
  "nbformat": 4,
  "nbformat_minor": 0,
  "metadata": {
    "colab": {
      "name": "checkpoint.ipynb",
      "provenance": [],
      "collapsed_sections": []
    },
    "kernelspec": {
      "name": "python3",
      "display_name": "Python 3"
    }
  },
  "cells": [
    {
      "cell_type": "code",
      "metadata": {
        "id": "Yw0951lL6V8Z",
        "colab_type": "code",
        "colab": {}
      },
      "source": [
        "from __future__ import absolute_import, division, print_function, unicode_literals\n",
        "import tensorflow as tf\n",
        "\n",
        "class Net(tf.keras.Model):\n",
        "  # 모델 가정하고 시작\n",
        "  def __init__(self):\n",
        "    super(Net, self).__init__()\n",
        "    self.l1 = tf.keras.layers.Dense(5)\n",
        "\n",
        "  def call(self, x):\n",
        "    return self.l1(x)\n",
        "\n",
        "net = Net()\n"
      ],
      "execution_count": 0,
      "outputs": []
    },
    {
      "cell_type": "code",
      "metadata": {
        "id": "iscK6TQq6dS3",
        "colab_type": "code",
        "colab": {}
      },
      "source": [
        "\n",
        "# 체크포인트 저장하기\n",
        "net.save_weights('easy_checkpoint')\n",
        "\n",
        "# tf.Variable 에 저장되는 모델 상태를 Chekpoint 로 저장할 것\n",
        "# 객체에 변수를 연결\n"
      ],
      "execution_count": 0,
      "outputs": []
    },
    {
      "cell_type": "code",
      "metadata": {
        "id": "8CNlstzt6g2i",
        "colab_type": "code",
        "colab": {}
      },
      "source": [
        "\n",
        "# toy dataset 과 최적화 정의\n",
        "def toy_dataset():\n",
        "  inputs = tf.range(10.)[:, None]\n",
        "  labels = inputs * 5. + tf.range(5.)[None, :]\n",
        "  return tf.data.Dataset.from_tensor_slices(\n",
        "    dict(x=inputs, y=labels)).repeat(10).batch(2)\n",
        "\n",
        "def train_step(net, example, optimizer):\n",
        "  \"\"\"Trains `net` on `example` using `optimizer`.\"\"\"\n",
        "  with tf.GradientTape() as tape:\n",
        "    output = net(example['x'])\n",
        "    loss = tf.reduce_mean(tf.abs(output - example['y']))\n",
        "  variables = net.trainable_variables\n",
        "  gradients = tape.gradient(loss, variables)\n",
        "  optimizer.apply_gradients(zip(gradients, variables))\n",
        "  return loss\n"
      ],
      "execution_count": 0,
      "outputs": []
    },
    {
      "cell_type": "code",
      "metadata": {
        "id": "leHraOge6kqH",
        "colab_type": "code",
        "colab": {}
      },
      "source": [
        "# tf.train.Checkpoint 객체를 생성\n",
        "opt = tf.keras.optimizers.Adam(0.1)\n",
        "ckpt = tf.train.Checkpoint(step=tf.Variable(1), optimizer=opt, net=net)\n",
        "manager = tf.train.CheckpointManager(ckpt, './tf_ckpts', max_to_keep=3)\n",
        "\n",
        "# model 과 optimizer 인스턴스를 만들어 체크포인트 객체에 저장\n",
        "# 주기적으로 체크포인트 작성\n",
        "def train_and_checkpoint(net, manager):\n",
        "    # restore 는 불러오기\n",
        "    # 최근 저장된 checkpoint 가 있으면 restore 한다.\n",
        "  ckpt.restore(manager.latest_checkpoint)\n",
        "  if manager.latest_checkpoint:\n",
        "    print(\"Restored from {}\".format(manager.latest_checkpoint))\n",
        "  else:\n",
        "    print(\"Initializing from scratch.\")\n",
        "\n",
        "  for example in toy_dataset():\n",
        "    loss = train_step(net, example, opt)\n",
        "    ckpt.step.assign_add(1)\n",
        "    if int(ckpt.step) % 10 == 0:\n",
        "      save_path = manager.save()\n",
        "      print(\"Saved checkpoint for step {}: {}\".format(int(ckpt.step), save_path))\n",
        "      print(\"loss {:1.2f}\".format(loss.numpy()))"
      ],
      "execution_count": 0,
      "outputs": []
    },
    {
      "cell_type": "code",
      "metadata": {
        "id": "1Tff8qiJ6nFA",
        "colab_type": "code",
        "colab": {
          "base_uri": "https://localhost:8080/",
          "height": 210
        },
        "outputId": "66763718-a446-4cad-b7a2-64d2708c5f3e"
      },
      "source": [
        "train_and_checkpoint(net, manager)"
      ],
      "execution_count": 6,
      "outputs": [
        {
          "output_type": "stream",
          "text": [
            "Initializing from scratch.\n",
            "Saved checkpoint for step 10: ./tf_ckpts/ckpt-1\n",
            "loss 28.54\n",
            "Saved checkpoint for step 20: ./tf_ckpts/ckpt-2\n",
            "loss 21.96\n",
            "Saved checkpoint for step 30: ./tf_ckpts/ckpt-3\n",
            "loss 15.40\n",
            "Saved checkpoint for step 40: ./tf_ckpts/ckpt-4\n",
            "loss 8.96\n",
            "Saved checkpoint for step 50: ./tf_ckpts/ckpt-5\n",
            "loss 3.11\n"
          ],
          "name": "stdout"
        }
      ]
    },
    {
      "cell_type": "code",
      "metadata": {
        "id": "uIO_LAj26tEm",
        "colab_type": "code",
        "colab": {
          "base_uri": "https://localhost:8080/",
          "height": 210
        },
        "outputId": "4b7733a6-89c2-4d4e-ce43-d739991ceeec"
      },
      "source": [
        "# 앞에서 실행을 끝내고 다음 지점부터 트레이닝\n",
        "opt = tf.keras.optimizers.Adam(0.1)\n",
        "net = Net()  # 새 모델\n",
        "ckpt = tf.train.Checkpoint(step=tf.Variable(1), optimizer=opt, net=net)\n",
        "manager = tf.train.CheckpointManager(ckpt, './tf_ckpts', max_to_keep=3) # 새 매니저\n",
        "\n",
        "# 모델과 체크포인트 매니저는 새로 만들었지만, 다음 번호부터\n",
        "train_and_checkpoint(net, manager)"
      ],
      "execution_count": 7,
      "outputs": [
        {
          "output_type": "stream",
          "text": [
            "Restored from ./tf_ckpts/ckpt-5\n",
            "Saved checkpoint for step 60: ./tf_ckpts/ckpt-6\n",
            "loss 1.37\n",
            "Saved checkpoint for step 70: ./tf_ckpts/ckpt-7\n",
            "loss 1.52\n",
            "Saved checkpoint for step 80: ./tf_ckpts/ckpt-8\n",
            "loss 0.87\n",
            "Saved checkpoint for step 90: ./tf_ckpts/ckpt-9\n",
            "loss 0.86\n",
            "Saved checkpoint for step 100: ./tf_ckpts/ckpt-10\n",
            "loss 0.54\n"
          ],
          "name": "stdout"
        }
      ]
    },
    {
      "cell_type": "code",
      "metadata": {
        "id": "XMUOsM2t7LqK",
        "colab_type": "code",
        "colab": {
          "base_uri": "https://localhost:8080/",
          "height": 34
        },
        "outputId": "7c2e2d88-b029-4835-d950-973cf02e9768"
      },
      "source": [
        "print(manager.checkpoints)  # 남은 checkpoint들 나열\n",
        "# max_to_keep=3 이라서 세개가 남아있음"
      ],
      "execution_count": 8,
      "outputs": [
        {
          "output_type": "stream",
          "text": [
            "['./tf_ckpts/ckpt-8', './tf_ckpts/ckpt-9', './tf_ckpts/ckpt-10']\n"
          ],
          "name": "stdout"
        }
      ]
    },
    {
      "cell_type": "code",
      "metadata": {
        "id": "QYQ9MGfU7Tyg",
        "colab_type": "code",
        "colab": {}
      },
      "source": [
        "# ckpt-웅앵은 파일이 아니고, checkpoint 에 묶여있음\n",
        "# CheckpoingManager 거 저장하는 하나의 checkpoint 파일에 묶여있음"
      ],
      "execution_count": 0,
      "outputs": []
    },
    {
      "cell_type": "code",
      "metadata": {
        "id": "5WAfB8EZ7ilG",
        "colab_type": "code",
        "colab": {
          "base_uri": "https://localhost:8080/",
          "height": 70
        },
        "outputId": "1ee88f0c-0530-4947-ff6b-70738fb3ca9d"
      },
      "source": [
        "ls ./tf_ckpts"
      ],
      "execution_count": 10,
      "outputs": [
        {
          "output_type": "stream",
          "text": [
            "checkpoint                   ckpt-8.data-00000-of-00001  ckpt-9.index\n",
            "ckpt-10.data-00000-of-00001  ckpt-8.index\n",
            "ckpt-10.index                ckpt-9.data-00000-of-00001\n"
          ],
          "name": "stdout"
        }
      ]
    },
    {
      "cell_type": "code",
      "metadata": {
        "id": "awNsaa6z7uSV",
        "colab_type": "code",
        "colab": {
          "base_uri": "https://localhost:8080/",
          "height": 52
        },
        "outputId": "26dbde98-feb4-4537-8827-36a1b10de6ba"
      },
      "source": [
        "to_restore = tf.Variable(tf.zeros([5]))\n",
        "print(to_restore.numpy())  # 모두 0\n",
        "fake_layer = tf.train.Checkpoint(bias=to_restore)\n",
        "fake_net = tf.train.Checkpoint(l1=fake_layer)\n",
        "new_root = tf.train.Checkpoint(net=fake_net)\n",
        "status = new_root.restore(tf.train.latest_checkpoint('./tf_ckpts/'))\n",
        "print(to_restore.numpy())  # 복구된 변수\n",
        "# 왜 복구되지..?\n",
        "# restore() 는 선택적으로 확인한 객체 상태 반환"
      ],
      "execution_count": 11,
      "outputs": [
        {
          "output_type": "stream",
          "text": [
            "[0. 0. 0. 0. 0.]\n",
            "[2.5321743 2.0682318 3.1031408 3.4294453 5.010107 ]\n"
          ],
          "name": "stdout"
        }
      ]
    },
    {
      "cell_type": "code",
      "metadata": {
        "id": "HtdafUYsE9n0",
        "colab_type": "code",
        "colab": {
          "base_uri": "https://localhost:8080/",
          "height": 34
        },
        "outputId": "0dafb73d-cc3b-4227-a6f9-e56c1c46d4c1"
      },
      "source": [
        "status.assert_existing_objects_matched()\n",
        "# checkpoint 와 계층과 변수.. 이런것들이 일치할 때만 통과"
      ],
      "execution_count": 12,
      "outputs": [
        {
          "output_type": "execute_result",
          "data": {
            "text/plain": [
              "<tensorflow.python.training.tracking.util.CheckpointLoadStatus at 0x7fc4891cb358>"
            ]
          },
          "metadata": {
            "tags": []
          },
          "execution_count": 12
        }
      ]
    },
    {
      "cell_type": "code",
      "metadata": {
        "id": "NSPSsE0PUUgj",
        "colab_type": "code",
        "colab": {
          "base_uri": "https://localhost:8080/",
          "height": 52
        },
        "outputId": "2892ac7e-1975-4801-dd25-04b371234d75"
      },
      "source": [
        "delayed_restore = tf.Variable(tf.zeros([1, 5]))\n",
        "print(delayed_restore.numpy())  # 복원 안돼서 0\n",
        "fake_layer.kernel = delayed_restore\n",
        "print(delayed_restore.numpy())  # 복원"
      ],
      "execution_count": 13,
      "outputs": [
        {
          "output_type": "stream",
          "text": [
            "[[0. 0. 0. 0. 0.]]\n",
            "[[4.6286473 4.8262315 4.8013506 4.9458823 4.9298534]]\n"
          ],
          "name": "stdout"
        }
      ]
    },
    {
      "cell_type": "code",
      "metadata": {
        "id": "S98FFgLjUpjG",
        "colab_type": "code",
        "colab": {
          "base_uri": "https://localhost:8080/",
          "height": 298
        },
        "outputId": "9e5ecc7e-73a3-40f6-8014-a97bc7f9898d"
      },
      "source": [
        "# checkpoint 키 , 변수 형태\n",
        "tf.train.list_variables(tf.train.latest_checkpoint('./tf_ckpts/'))"
      ],
      "execution_count": 14,
      "outputs": [
        {
          "output_type": "execute_result",
          "data": {
            "text/plain": [
              "[('_CHECKPOINTABLE_OBJECT_GRAPH', []),\n",
              " ('net/l1/bias/.ATTRIBUTES/VARIABLE_VALUE', [5]),\n",
              " ('net/l1/bias/.OPTIMIZER_SLOT/optimizer/m/.ATTRIBUTES/VARIABLE_VALUE', [5]),\n",
              " ('net/l1/bias/.OPTIMIZER_SLOT/optimizer/v/.ATTRIBUTES/VARIABLE_VALUE', [5]),\n",
              " ('net/l1/kernel/.ATTRIBUTES/VARIABLE_VALUE', [1, 5]),\n",
              " ('net/l1/kernel/.OPTIMIZER_SLOT/optimizer/m/.ATTRIBUTES/VARIABLE_VALUE',\n",
              "  [1, 5]),\n",
              " ('net/l1/kernel/.OPTIMIZER_SLOT/optimizer/v/.ATTRIBUTES/VARIABLE_VALUE',\n",
              "  [1, 5]),\n",
              " ('optimizer/beta_1/.ATTRIBUTES/VARIABLE_VALUE', []),\n",
              " ('optimizer/beta_2/.ATTRIBUTES/VARIABLE_VALUE', []),\n",
              " ('optimizer/decay/.ATTRIBUTES/VARIABLE_VALUE', []),\n",
              " ('optimizer/iter/.ATTRIBUTES/VARIABLE_VALUE', []),\n",
              " ('optimizer/learning_rate/.ATTRIBUTES/VARIABLE_VALUE', []),\n",
              " ('save_counter/.ATTRIBUTES/VARIABLE_VALUE', []),\n",
              " ('step/.ATTRIBUTES/VARIABLE_VALUE', [])]"
            ]
          },
          "metadata": {
            "tags": []
          },
          "execution_count": 14
        }
      ]
    },
    {
      "cell_type": "code",
      "metadata": {
        "id": "Vngmat_hUwrK",
        "colab_type": "code",
        "colab": {}
      },
      "source": [
        "save = tf.train.Checkpoint()\n",
        "save.listed = [tf.Variable(1.)]\n",
        "save.listed.append(tf.Variable(2.))\n",
        "save.mapped = {'one': save.listed[0]}\n",
        "save.mapped['two'] = save.listed[1]\n",
        "save_path = save.save('./tf_list_example')\n",
        "\n",
        "restore = tf.train.Checkpoint()\n",
        "v2 = tf.Variable(0.)\n",
        "assert 0. == v2.numpy()  # 아직 복구되지 않았습니다.\n",
        "restore.mapped = {'two': v2}\n",
        "restore.restore(save_path)\n",
        "assert 2. == v2.numpy()"
      ],
      "execution_count": 0,
      "outputs": []
    },
    {
      "cell_type": "code",
      "metadata": {
        "id": "6ZVZrnsfUy6H",
        "colab_type": "code",
        "colab": {
          "base_uri": "https://localhost:8080/",
          "height": 34
        },
        "outputId": "118aa314-53ff-4f43-8661-98c320173c07"
      },
      "source": [
        "restore.listed = []\n",
        "print(restore.listed)  # 리스트래퍼([])\n",
        "v1 = tf.Variable(0.)\n",
        "restore.listed.append(v1)  # 이전 셀의 restore()에서 v1 복원합니다.\n",
        "assert 1. == v1.numpy()"
      ],
      "execution_count": 16,
      "outputs": [
        {
          "output_type": "stream",
          "text": [
            "ListWrapper([])\n"
          ],
          "name": "stdout"
        }
      ]
    },
    {
      "cell_type": "code",
      "metadata": {
        "id": "KdNPZzEfU206",
        "colab_type": "code",
        "colab": {}
      },
      "source": [
        "import tensorflow.compat.v1 as tf_compat\n",
        "# 이름 기반 체크포인트"
      ],
      "execution_count": 0,
      "outputs": []
    },
    {
      "cell_type": "code",
      "metadata": {
        "id": "Iwuodm9WU5Vb",
        "colab_type": "code",
        "colab": {
          "base_uri": "https://localhost:8080/",
          "height": 547
        },
        "outputId": "be22fd40-6d35-4d82-ae05-7f2de84b4985"
      },
      "source": [
        "def model_fn(features, labels, mode):\n",
        "  net = Net()\n",
        "  opt = tf.keras.optimizers.Adam(0.1)\n",
        "  ckpt = tf.train.Checkpoint(step=tf_compat.train.get_global_step(),\n",
        "                             optimizer=opt, net=net)\n",
        "  with tf.GradientTape() as tape:\n",
        "    output = net(features['x'])\n",
        "    loss = tf.reduce_mean(tf.abs(output - features['y']))\n",
        "  variables = net.trainable_variables\n",
        "  gradients = tape.gradient(loss, variables)\n",
        "  return tf.estimator.EstimatorSpec(\n",
        "    mode,\n",
        "    loss=loss,\n",
        "    train_op=tf.group(opt.apply_gradients(zip(gradients, variables)),\n",
        "                      ckpt.step.assign_add(1)),\n",
        "    # Estimator가 \"ckpt\"를 객체 기반의 꼴로 저장하게 합니다.\n",
        "    scaffold=tf_compat.train.Scaffold(saver=ckpt))\n",
        "\n",
        "tf.keras.backend.clear_session()\n",
        "est = tf.estimator.Estimator(model_fn, './tf_estimator_example/')\n",
        "est.train(toy_dataset, steps=10)"
      ],
      "execution_count": 18,
      "outputs": [
        {
          "output_type": "stream",
          "text": [
            "INFO:tensorflow:Using default config.\n",
            "INFO:tensorflow:Using config: {'_model_dir': './tf_estimator_example/', '_tf_random_seed': None, '_save_summary_steps': 100, '_save_checkpoints_steps': None, '_save_checkpoints_secs': 600, '_session_config': allow_soft_placement: true\n",
            "graph_options {\n",
            "  rewrite_options {\n",
            "    meta_optimizer_iterations: ONE\n",
            "  }\n",
            "}\n",
            ", '_keep_checkpoint_max': 5, '_keep_checkpoint_every_n_hours': 10000, '_log_step_count_steps': 100, '_train_distribute': None, '_device_fn': None, '_protocol': None, '_eval_distribute': None, '_experimental_distribute': None, '_experimental_max_worker_delay_secs': None, '_session_creation_timeout_secs': 7200, '_service': None, '_cluster_spec': ClusterSpec({}), '_task_type': 'worker', '_task_id': 0, '_global_id_in_cluster': 0, '_master': '', '_evaluation_master': '', '_is_chief': True, '_num_ps_replicas': 0, '_num_worker_replicas': 1}\n",
            "WARNING:tensorflow:From /usr/local/lib/python3.6/dist-packages/tensorflow/python/ops/resource_variable_ops.py:1666: calling BaseResourceVariable.__init__ (from tensorflow.python.ops.resource_variable_ops) with constraint is deprecated and will be removed in a future version.\n",
            "Instructions for updating:\n",
            "If using Keras pass *_constraint arguments to layers.\n",
            "WARNING:tensorflow:From /usr/local/lib/python3.6/dist-packages/tensorflow/python/training/training_util.py:236: Variable.initialized_value (from tensorflow.python.ops.variables) is deprecated and will be removed in a future version.\n",
            "Instructions for updating:\n",
            "Use Variable.read_value. Variables in 2.X are initialized automatically both in eager and graph (inside tf.defun) contexts.\n",
            "INFO:tensorflow:Calling model_fn.\n",
            "INFO:tensorflow:Done calling model_fn.\n",
            "INFO:tensorflow:Create CheckpointSaverHook.\n",
            "INFO:tensorflow:Graph was finalized.\n",
            "INFO:tensorflow:Running local_init_op.\n",
            "INFO:tensorflow:Done running local_init_op.\n",
            "INFO:tensorflow:Calling checkpoint listeners before saving checkpoint 0...\n",
            "INFO:tensorflow:Saving checkpoints for 0 into ./tf_estimator_example/model.ckpt.\n",
            "INFO:tensorflow:Calling checkpoint listeners after saving checkpoint 0...\n",
            "INFO:tensorflow:loss = 4.423126, step = 1\n",
            "INFO:tensorflow:Calling checkpoint listeners before saving checkpoint 10...\n",
            "INFO:tensorflow:Saving checkpoints for 10 into ./tf_estimator_example/model.ckpt.\n",
            "INFO:tensorflow:Calling checkpoint listeners after saving checkpoint 10...\n",
            "INFO:tensorflow:Loss for final step: 35.572258.\n"
          ],
          "name": "stdout"
        },
        {
          "output_type": "execute_result",
          "data": {
            "text/plain": [
              "<tensorflow_estimator.python.estimator.estimator.EstimatorV2 at 0x7fc4891c6390>"
            ]
          },
          "metadata": {
            "tags": []
          },
          "execution_count": 18
        }
      ]
    },
    {
      "cell_type": "code",
      "metadata": {
        "id": "s2rQu02vU7-U",
        "colab_type": "code",
        "colab": {
          "base_uri": "https://localhost:8080/",
          "height": 34
        },
        "outputId": "6d925bed-b62c-4b96-85b9-75f4242b3b16"
      },
      "source": [
        "opt = tf.keras.optimizers.Adam(0.1)\n",
        "net = Net()\n",
        "ckpt = tf.train.Checkpoint(\n",
        "  step=tf.Variable(1, dtype=tf.int64), optimizer=opt, net=net)\n",
        "ckpt.restore(tf.train.latest_checkpoint('./tf_estimator_example/'))\n",
        "ckpt.step.numpy()  # est.train(..., steps=10)부터"
      ],
      "execution_count": 19,
      "outputs": [
        {
          "output_type": "execute_result",
          "data": {
            "text/plain": [
              "10"
            ]
          },
          "metadata": {
            "tags": []
          },
          "execution_count": 19
        }
      ]
    }
  ]
}